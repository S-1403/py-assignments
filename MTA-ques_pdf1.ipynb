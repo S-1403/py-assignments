{
 "cells": [
  {
   "cell_type": "code",
   "execution_count": 1,
   "id": "bd670b01-8af4-4aa9-a4c7-3c7ffa5c8e4f",
   "metadata": {},
   "outputs": [],
   "source": [
    "## MTA questions pdf 1"
   ]
  },
  {
   "cell_type": "code",
   "execution_count": 2,
   "id": "3f70ade4-a28a-4251-87cd-ef333f15a99b",
   "metadata": {},
   "outputs": [
    {
     "name": "stdout",
     "output_type": "stream",
     "text": [
      "5.0\n"
     ]
    }
   ],
   "source": [
    "#1\n",
    "x=8\n",
    "y=10\n",
    "result=x//3*3/2+y%2**2\n",
    "print(result)\n",
    "### r=8//3*3/2+10%2**2\n",
    "#r=2*3/2+10%4\n",
    "#r=6/2+2\n",
    "#r=3.0+2\n",
    "#r=5.0"
   ]
  },
  {
   "cell_type": "code",
   "execution_count": null,
   "id": "3370911b-c856-4567-95e5-16b3ffe17919",
   "metadata": {},
   "outputs": [],
   "source": [
    "#2 consider the code:\n",
    "    start=input(\"how old were u at the time of joining?\")\n",
    "    end=input (\"how old are u today?\")\n",
    "what code will give congratulations msg on print"
   ]
  },
  {
   "cell_type": "code",
   "execution_count": 5,
   "id": "003336bf-1140-4d64-93a4-6ef3bec4bea5",
   "metadata": {},
   "outputs": [
    {
     "name": "stdin",
     "output_type": "stream",
     "text": [
      "how old were u at the time of joining? 25\n",
      "how old are u today? 60\n"
     ]
    }
   ],
   "source": [
    "start=input(\"how old were u at the time of joining?\")\n",
    "end=input (\"how old are u today?\")"
   ]
  },
  {
   "cell_type": "code",
   "execution_count": 7,
   "id": "465bba09-6694-4e90-8287-0af1719f70cd",
   "metadata": {},
   "outputs": [
    {
     "name": "stdout",
     "output_type": "stream",
     "text": [
      "congratulations on 35years of service!\n"
     ]
    }
   ],
   "source": [
    "print('congratulations on '+ str(int(end)-int(start))+\"years of service!\")"
   ]
  },
  {
   "cell_type": "code",
   "execution_count": 9,
   "id": "01db1507-1d25-428c-be1e-b25f87ef778a",
   "metadata": {},
   "outputs": [],
   "source": [
    "#3\n",
    "x='ACROTE'\n",
    "y=\"APPLE\"\n",
    "z=\"TOMATO\"\n",
    "#what so be coded to print CAT"
   ]
  },
  {
   "cell_type": "code",
   "execution_count": 10,
   "id": "e4594f72-ab31-4550-ab23-80eecca494ac",
   "metadata": {},
   "outputs": [
    {
     "name": "stdout",
     "output_type": "stream",
     "text": [
      "CAT\n"
     ]
    }
   ],
   "source": [
    "print(x[1]+y[0]+z[0])"
   ]
  },
  {
   "cell_type": "code",
   "execution_count": 20,
   "id": "03b866e8-fc85-428c-9909-8bf13ca8dbea",
   "metadata": {},
   "outputs": [
    {
     "name": "stdout",
     "output_type": "stream",
     "text": [
      "condition\n"
     ]
    }
   ],
   "source": [
    "#4\n",
    "x=\"durga\"\n",
    "y=\"durga\"\n",
    "result='condition'\n",
    "'condition' ==x is y   \n",
    "print(result)"
   ]
  },
  {
   "cell_type": "code",
   "execution_count": 23,
   "id": "fd2c0d7b-46ff-4488-83f7-394ebf43ee38",
   "metadata": {},
   "outputs": [],
   "source": [
    "#5  code1\n",
    "a1='10'\n",
    "b1=3\n",
    "c1=a1*b1\n",
    "#code2\n",
    "a2=10\n",
    "b2=3\n",
    "c2=a2/b2\n",
    "#code3\n",
    "a3=2.6\n",
    "b3=1\n",
    "c3=a3/b3\n",
    "#what is the datatype of c1,c2,c3"
   ]
  },
  {
   "cell_type": "code",
   "execution_count": null,
   "id": "24c13a79-2e5a-48b1-8c2e-fe6673da70c8",
   "metadata": {},
   "outputs": [],
   "source": [
    "c1=101010(str), c2=3.33(float), c3=2.6(float)"
   ]
  },
  {
   "cell_type": "code",
   "execution_count": null,
   "id": "10a17ec6-0193-41c9-b0ec-e3a0d40e56e8",
   "metadata": {},
   "outputs": [],
   "source": [
    "## 6 which of the following will give same result\n",
    "1)13//4= 3    2)11/3=3.666\n",
    "3) 3**1=3   4)23%5=3\n"
   ]
  },
  {
   "cell_type": "code",
   "execution_count": 28,
   "id": "0ba956a6-bc06-4b53-a7dd-5794d2135489",
   "metadata": {},
   "outputs": [
    {
     "name": "stdout",
     "output_type": "stream",
     "text": [
      "False\n",
      "True\n"
     ]
    }
   ],
   "source": [
    "# 7\n",
    "n1=[10,20,30,40,50]\n",
    "n2=[10,20,30,40,50]\n",
    "print(n1 is n2)\n",
    "print(n1== n2)"
   ]
  },
  {
   "cell_type": "code",
   "execution_count": null,
   "id": "1e186bc4-660a-4380-8548-4574a4d9579d",
   "metadata": {},
   "outputs": [],
   "source": [
    "#8 \n",
    "a=1 b=3 c=5 d=7\n",
    "#which of the following combinations give result value 0\n",
    "1)a-b//d=1-3//7=1\n",
    "2)a**d-1=1**7-1=0\n",
    "3)a+b*2=4*2=8\n",
    "4)a%b-1=1%3-1=0"
   ]
  },
  {
   "cell_type": "code",
   "execution_count": 30,
   "id": "42acb967-427f-42eb-b3e5-e70b61446a92",
   "metadata": {},
   "outputs": [
    {
     "name": "stdout",
     "output_type": "stream",
     "text": [
      "['A', 'B', ' ', 'C', 'D', 'EF']\n"
     ]
    }
   ],
   "source": [
    "#9\n",
    "s='AB CD'\n",
    "list=list(s)\n",
    "list.append('EF')\n",
    "print(list)\n",
    "#what is the result?"
   ]
  },
  {
   "cell_type": "code",
   "execution_count": null,
   "id": "0ba24f37-35fe-4a74-afe9-542baa6b5186",
   "metadata": {},
   "outputs": [],
   "source": [
    "#Q.10 consider the python code \n",
    "a=5\n",
    "b=10\n",
    "c=2\n",
    "d=True\n",
    "\n",
    "x=a+b*c=5+10*2=25\n",
    "y=a+b/d=5+10/true=5+10.0=15.0\n",
    "\n",
    "if ('condition'):\n",
    "    print('valid')\n",
    "else:\n",
    "    print('invalid')\n",
    "#to print 'valid' which condition have to be taken\n",
    "==> x>y"
   ]
  },
  {
   "cell_type": "code",
   "execution_count": 3,
   "id": "2aaa63d6-7bc1-4c49-ac20-39460c66d413",
   "metadata": {},
   "outputs": [
    {
     "name": "stdin",
     "output_type": "stream",
     "text": [
      "enter first number: 15\n",
      "enter the second value 25\n"
     ]
    }
   ],
   "source": [
    "#11\n",
    "x=input('enter first number:')\n",
    "y=input('enter the second value')\n",
    "#line1\n",
    "#which print statement will give sum of given numbers"
   ]
  },
  {
   "cell_type": "code",
   "execution_count": 5,
   "id": "1828b81f-c406-4898-8eb4-e4c3e401d692",
   "metadata": {},
   "outputs": [
    {
     "name": "stdout",
     "output_type": "stream",
     "text": [
      "the result:40\n"
     ]
    }
   ],
   "source": [
    "print('the result:'+str(int(x)+int(y)))\n",
    "## same as Q.2"
   ]
  },
  {
   "cell_type": "code",
   "execution_count": null,
   "id": "85090df6-2f12-4e2b-a5dc-4242e8121bcc",
   "metadata": {},
   "outputs": [],
   "source": [
    "# 12 consider the expression:\n",
    "result=a-b*c+d\n",
    "##which of the following will occur 1st?\n",
    "==>1) b*c will execute then substrsction (coz it has left to right associativity) then addition\n",
    "2)a-(b*c)+d soo (b*c) will execute coz of BODMAS"
   ]
  },
  {
   "cell_type": "code",
   "execution_count": null,
   "id": "f6d04e6e-090d-4f41-b1e1-b2b6d2f95839",
   "metadata": {},
   "outputs": [],
   "source": [
    "#13\n",
    "weight=62.4\n",
    "zip='80098'\n",
    "value+=23E4\n",
    "data types of weight, zip,and value valiables\n",
    "weight:-float\n",
    "zip=str and value== float"
   ]
  },
  {
   "cell_type": "code",
   "execution_count": null,
   "id": "3ef618fd-1f41-4fdf-8f0a-ebe743ede687",
   "metadata": {},
   "outputs": [],
   "source": [
    "##14 identify types of a,b,c\n",
    "a=10+20==> INT\n",
    "b='10'+'20'==> STR\n",
    "c='10'*3++> STR"
   ]
  },
  {
   "cell_type": "code",
   "execution_count": null,
   "id": "6ef66e86-7e2d-4242-b078-a83ee26e49c4",
   "metadata": {},
   "outputs": [],
   "source": [
    "##15 which variables represnt false\n",
    "a=bool([False]) ==> TRUE\n",
    "b=bool(3)==> TRUE\n",
    "c=bool(\"\")==> FALSE\n",
    "d=bool(\" \") ==>TRUE"
   ]
  },
  {
   "cell_type": "code",
   "execution_count": null,
   "id": "d662de40-318b-4d49-955a-6a5d7900b5ee",
   "metadata": {},
   "outputs": [],
   "source": [
    "## 16 what is the result value ?\n",
    "result=(2*(3+4)**2-(3**3)*3)\n",
    "      =(2*7**2-27*3)\n",
    "      =(2*49-81)\n",
    "      = (98-81)\n",
    "      = 17"
   ]
  },
  {
   "cell_type": "code",
   "execution_count": null,
   "id": "f74583a8-3a4d-4cd1-9517-a1f17086a055",
   "metadata": {},
   "outputs": [],
   "source": [
    "#17\n",
    "a=2\n",
    "a+=1\n",
    "##line1\n",
    "## to make value 9 which exp will be req at line 1\n",
    " now a=3 and a**=2 soo 3**2=9"
   ]
  },
  {
   "cell_type": "code",
   "execution_count": null,
   "id": "615490b6-a093-49ef-bc36-9edd16b811b9",
   "metadata": {},
   "outputs": [],
   "source": [
    "#18\n",
    "a=bool(0)==> FALSE\n",
    "b=bool(3)==> TRUE\n",
    "c=bool(0.5)==> TRUE\n",
    "d=bool(0.0)==> FALSE"
   ]
  },
  {
   "cell_type": "code",
   "execution_count": 6,
   "id": "0b29817d-768e-4ca4-920e-b9d89a5a2875",
   "metadata": {},
   "outputs": [
    {
     "name": "stdout",
     "output_type": "stream",
     "text": [
      "3.5\n",
      "3\n",
      "3\n"
     ]
    }
   ],
   "source": [
    "#19\n",
    "a=21\n",
    "b=6\n",
    "print(a/b)\n",
    "print(a//b)\n",
    "print(a%b)"
   ]
  },
  {
   "cell_type": "code",
   "execution_count": null,
   "id": "2448c253-4c1d-4073-a3d0-ce727beb18bc",
   "metadata": {},
   "outputs": [],
   "source": [
    "#20 you are developing a python application for company\n",
    "\n",
    " a list named employees contains 500 employee names, the last 3 being company management.\n",
    "  which of the following represents only management employees \n",
    "==>emplyoee[497:500]\n",
    "==>employee[-3:]\n",
    "==>employee[497:]"
   ]
  },
  {
   "cell_type": "code",
   "execution_count": 9,
   "id": "c70aef62-b4bf-4743-aeba-0a8263d5c9a6",
   "metadata": {},
   "outputs": [
    {
     "name": "stdout",
     "output_type": "stream",
     "text": [
      "True\n",
      "True\n",
      "False\n",
      "False\n"
     ]
    }
   ],
   "source": [
    "#21\n",
    "subjects= ['java', 'python', 'sap']\n",
    "more_subjects=['java', 'python', 'sap']\n",
    "extra_subjects=more_subjects\n",
    "#in which cases True will be printed \n",
    "print(extra_subjects is more_subjects)\n",
    "print(subjects == extra_subjects)\n",
    "print(subjects is more_subjects)\n",
    "print (subjects is extra_subjects)"
   ]
  },
  {
   "cell_type": "code",
   "execution_count": null,
   "id": "561976d3-53a5-4743-9a0e-6249013369a9",
   "metadata": {},
   "outputs": [],
   "source": [
    "#22 you are developing a python application for company\n",
    "a list named employees contains 500 employee names. in which cases will get index error\n",
    " while accessing employee data\n",
    "employees[0:501]\n",
    "emplyoees[1:1000]\n",
    "emplyoees[-10:10]\n",
    "##NONE GIVES INDEX ERROR "
   ]
  },
  {
   "cell_type": "code",
   "execution_count": 12,
   "id": "e1eaaa9d-b111-456a-b4b2-95d385d6ecd5",
   "metadata": {},
   "outputs": [
    {
     "name": "stdout",
     "output_type": "stream",
     "text": [
      "False\n",
      "False\n",
      "True\n",
      "True\n"
     ]
    }
   ],
   "source": [
    "#23\n",
    "numbers =[10,20,30,40,50]\n",
    "alphabets=['a', 'b', 'c','d', 'e']\n",
    "print (numbers is alphabets)\n",
    "print (numbers == alphabets)\n",
    "numbers=alphabets\n",
    "print (numbers is alphabets)\n",
    "print (numbers==alphabets)"
   ]
  },
  {
   "cell_type": "code",
   "execution_count": null,
   "id": "d9a22877-bd99-4afd-8408-5d1350368e75",
   "metadata": {},
   "outputs": [],
   "source": [
    "#24\n",
    "##datatypes\n",
    "age=0 ===> int\n",
    "minor=False ===> bool\n",
    "name='Durga' ===> str\n"
   ]
  },
  {
   "cell_type": "code",
   "execution_count": null,
   "id": "3db2984b-6caa-4043-b4aa-8d2ceedf0f0f",
   "metadata": {},
   "outputs": [],
   "source": [
    "#25  which of the following exp will generate max value\n",
    "8//3*4 = 2*4==>8\n",
    "8%3*4 ==>8\n",
    "8/3*4 ==> 10.66\n",
    "8.3*4 ==> 4"
   ]
  },
  {
   "cell_type": "code",
   "execution_count": 27,
   "id": "54e133d8-b5e4-4b35-b8c9-002d89435893",
   "metadata": {},
   "outputs": [
    {
     "name": "stdout",
     "output_type": "stream",
     "text": [
      " is \n"
     ]
    }
   ],
   "source": [
    "#26\n",
    "s='Python is easy'\n",
    "s1=s[6:-4]\n",
    "print(s1)"
   ]
  },
  {
   "cell_type": "code",
   "execution_count": 28,
   "id": "67e07cd4-9fe6-4624-9490-8643706c2cc8",
   "metadata": {},
   "outputs": [
    {
     "name": "stdout",
     "output_type": "stream",
     "text": [
      "2\n"
     ]
    }
   ],
   "source": [
    "s='Python is easy'\n",
    "s1=s[6:-4]\n",
    "s2=s1.strip()\n",
    "print(len(s2))\n",
    "#to print 2 as output which code needs to be inserted"
   ]
  },
  {
   "cell_type": "code",
   "execution_count": null,
   "id": "fd2950ff-d8de-48f6-81f5-5ffa31bcf123",
   "metadata": {},
   "outputs": [],
   "source": [
    "#27 you are developing a python application for company\n",
    "\n",
    "a list named employees contains 500 employee names, the last 3 being company management.\n",
    "which of the following represents only management employees. you need to slice employees excluding management. \n",
    "which two code segments we should use ?\n",
    "==>employees [:-3]\n",
    "emplyoees [0:-3]\n"
   ]
  },
  {
   "cell_type": "code",
   "execution_count": null,
   "id": "e8c02168-5b0d-4e7d-8c7d-05f896bf5268",
   "metadata": {},
   "outputs": [],
   "source": [
    "#28\n",
    "list=['APPLE', 'BANANA', 'CARROT', 'MANGO']\n",
    "#which of the following are valid  ways of accessing 'MANGO':\n",
    "==> list[-1] and list[3]"
   ]
  },
  {
   "cell_type": "code",
   "execution_count": 34,
   "id": "ff5f1722-e8d9-45ed-bdca-69e5a24046c3",
   "metadata": {},
   "outputs": [
    {
     "name": "stdout",
     "output_type": "stream",
     "text": [
      "Boy\n",
      "Cat\n",
      "Dog\n"
     ]
    }
   ],
   "source": [
    "#29  which of the following code will give snippet will produce the output:\n",
    "#boy, cat, dog\n",
    "l=['Apple', 'Boy', 'Cat', 'Dog']\n",
    "for x in l:\n",
    "    if len(x)==3:\n",
    "        print(x)"
   ]
  },
  {
   "cell_type": "code",
   "execution_count": 35,
   "id": "51bb89ea-758f-4e8e-ad4a-ed3b59be140b",
   "metadata": {},
   "outputs": [
    {
     "name": "stdout",
     "output_type": "stream",
     "text": [
      "3.0\n"
     ]
    }
   ],
   "source": [
    "##30 consider the code :\n",
    "a=15\n",
    "b=5 \n",
    "print(a/b)"
   ]
  },
  {
   "cell_type": "code",
   "execution_count": null,
   "id": "b96a51f1-3874-49fa-948b-7d1b854f88e3",
   "metadata": {},
   "outputs": [],
   "source": [
    "#31  you are developing a python application for company\n",
    "a list named employees contains 500 employee names. in which cases will get index error\n",
    " while accessing employee data\n",
    "\n",
    "emplyoees[500] ==> will give coz index valueswill be from 0 to 499\n",
    "emplyoees[0] & emplyoees[-1]==> not give"
   ]
  },
  {
   "cell_type": "code",
   "execution_count": null,
   "id": "3084b7a3-b6cd-41e6-ad92-891bf7f9b25a",
   "metadata": {},
   "outputs": [],
   "source": [
    "##32   \n",
    "a=1\n",
    "b=2\n",
    "c=4\n",
    "d=6 \n",
    "## which expression will give results -4\n",
    "(a+b)//c*d = (1+2)//4*6 = 3//24==>0\n",
    "(b+c) //a%d == (2+4)//1%6 ==>0\n",
    "(a+b)//c%d == (1+2)//4%6 ==>0\n",
    "(a+b)//d-c== (1+2)//6-4== -4"
   ]
  },
  {
   "cell_type": "code",
   "execution_count": 2,
   "id": "205d164c-bca6-4782-882b-3380aceb30f0",
   "metadata": {},
   "outputs": [],
   "source": [
    "# 33 what is the result \n",
    "s='Python is easy'\n",
    "s1=s[-7:]"
   ]
  },
  {
   "cell_type": "code",
   "execution_count": 3,
   "id": "b6f08344-27b2-4141-8a25-d5c74fcaced4",
   "metadata": {},
   "outputs": [
    {
     "data": {
      "text/plain": [
       "'is easy'"
      ]
     },
     "execution_count": 3,
     "metadata": {},
     "output_type": "execute_result"
    }
   ],
   "source": [
    "s1"
   ]
  },
  {
   "cell_type": "code",
   "execution_count": 4,
   "id": "11aa08ef-1d03-4e10-9f1d-3f589bc6fb46",
   "metadata": {},
   "outputs": [],
   "source": [
    "s2=s[-4:]"
   ]
  },
  {
   "cell_type": "code",
   "execution_count": 5,
   "id": "2de35a56-eada-485b-a07b-31b567b41c36",
   "metadata": {},
   "outputs": [
    {
     "data": {
      "text/plain": [
       "'easy'"
      ]
     },
     "execution_count": 5,
     "metadata": {},
     "output_type": "execute_result"
    }
   ],
   "source": [
    "s2"
   ]
  },
  {
   "cell_type": "code",
   "execution_count": 6,
   "id": "74ede850-c6d6-4468-a249-b00e029f97d9",
   "metadata": {},
   "outputs": [
    {
     "name": "stdout",
     "output_type": "stream",
     "text": [
      "is easyeasy\n"
     ]
    }
   ],
   "source": [
    "print(s1+s2)"
   ]
  },
  {
   "cell_type": "code",
   "execution_count": null,
   "id": "4d751bb0-a557-49d0-942d-d1c8f829a216",
   "metadata": {},
   "outputs": [],
   "source": [
    "##34 give the correct python operator precedence order\n",
    "1) parenthesis ()\n",
    "2)exponents\n",
    "3)unary +, -\n",
    "4) *, /\n",
    "5) addition & substraction "
   ]
  },
  {
   "cell_type": "code",
   "execution_count": 16,
   "id": "dcbbd872-481c-4b05-94dc-b6a6f8f0b895",
   "metadata": {},
   "outputs": [
    {
     "name": "stdin",
     "output_type": "stream",
     "text": [
      "enter a number for the expression: 5\n"
     ]
    }
   ],
   "source": [
    "##35\n",
    "#u are writing a python code that evaluates arithmetic exp\n",
    "#the exp is described as b is equals a multiplied by negative 1, then raised to second power, \n",
    "#where a is the value which will be input and b is result\n",
    "b=(-a)**2\n",
    "a= eval(input('enter a number for the expression:'))\n"
   ]
  },
  {
   "cell_type": "code",
   "execution_count": 17,
   "id": "f08d4789-29aa-4b01-a07b-861fc0da33ba",
   "metadata": {},
   "outputs": [
    {
     "data": {
      "text/plain": [
       "25"
      ]
     },
     "execution_count": 17,
     "metadata": {},
     "output_type": "execute_result"
    }
   ],
   "source": [
    "b"
   ]
  },
  {
   "cell_type": "code",
   "execution_count": null,
   "id": "7c2434b3-358a-4283-86be-af9f89c38944",
   "metadata": {},
   "outputs": [],
   "source": [
    "#36 \n",
    "result=8//6%5+2**3-2\n",
    "=8//6%5+8-2\n",
    "=1%5+8-2\n",
    "=9-2\n",
    "=7"
   ]
  },
  {
   "cell_type": "code",
   "execution_count": null,
   "id": "e8d1e83d-4e40-4fa0-b465-3a241b89d972",
   "metadata": {},
   "outputs": [],
   "source": [
    "##37\n",
    "a=3\n",
    "b=5\n",
    "a+=2**3 = a=3+=2**3 = a=3+8 a==11\n",
    "a-=b//2//3 = a=11-5//2//3 a=11-2//3 = a=11-0 a=11"
   ]
  },
  {
   "cell_type": "code",
   "execution_count": null,
   "id": "fe1af9dd-28d7-43be-b0cc-699dcd45e522",
   "metadata": {},
   "outputs": [],
   "source": [
    "#38 \n",
    "a=bool([])= False\n",
    "b=bool(())=False\n",
    "c=bool(range(0))=False\n",
    "d=bool({})=False\n",
    "e=bool(set())=False\n",
    "\n",
    "for empty str, emptyb list, empty tuple, empty set, empty dict, and range(0)== bool()function\n",
    "returns False"
   ]
  },
  {
   "cell_type": "code",
   "execution_count": 13,
   "id": "9b09327e-542b-41de-94b8-83ee05b581da",
   "metadata": {},
   "outputs": [
    {
     "name": "stdout",
     "output_type": "stream",
     "text": [
      "10\n"
     ]
    }
   ],
   "source": [
    "#39 consider the python code\n",
    "numbers=[10,20,30,40]\n",
    "x=0\n",
    "#write a code in which 10 will be printed \n",
    "for i in(30,40,50):\n",
    "    if i in numbers:\n",
    "        x=x+5\n",
    "print(x)"
   ]
  },
  {
   "cell_type": "code",
   "execution_count": 14,
   "id": "5afe9635-1109-4e3c-9f16-8bc3fae06552",
   "metadata": {},
   "outputs": [
    {
     "name": "stdout",
     "output_type": "stream",
     "text": [
      "False\n",
      "True\n",
      "True\n",
      "True\n"
     ]
    }
   ],
   "source": [
    "#40\n",
    "n1 =[10,20,30,40,50]\n",
    "n2=[10,20,30,40,50]\n",
    "print (n1 is n2)\n",
    "print (n1 == n2)\n",
    "n1=n2\n",
    "print (n1 is n2)\n",
    "print (n1==n2)\n",
    "# same as Q.23"
   ]
  },
  {
   "cell_type": "code",
   "execution_count": null,
   "id": "9a779180-b8a0-4a20-9df0-bf0a760b67a1",
   "metadata": {},
   "outputs": [],
   "source": []
  }
 ],
 "metadata": {
  "kernelspec": {
   "display_name": "Python 3 (ipykernel)",
   "language": "python",
   "name": "python3"
  },
  "language_info": {
   "codemirror_mode": {
    "name": "ipython",
    "version": 3
   },
   "file_extension": ".py",
   "mimetype": "text/x-python",
   "name": "python",
   "nbconvert_exporter": "python",
   "pygments_lexer": "ipython3",
   "version": "3.12.7"
  }
 },
 "nbformat": 4,
 "nbformat_minor": 5
}
