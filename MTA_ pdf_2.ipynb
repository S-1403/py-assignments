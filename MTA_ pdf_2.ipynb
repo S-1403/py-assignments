{
 "cells": [
  {
   "cell_type": "code",
   "execution_count": null,
   "id": "339d373b-0f7f-45c1-907c-e9db1fc40298",
   "metadata": {},
   "outputs": [],
   "source": [
    "#1 which expression evaluates to 4\n",
    "1) 7-2*3=7-6=1\n",
    "2)7//2-3 = 3-3=0\n",
    "3)7/2*3 = 7/6=10.5\n",
    "*4) 7%2+3 = 1+3 =4\n"
   ]
  },
  {
   "cell_type": "code",
   "execution_count": null,
   "id": "e1891869-ad76-42de-916a-c0c86d5232b1",
   "metadata": {},
   "outputs": [],
   "source": [
    "##2 consider the code\n",
    "from sys import argv\n",
    "sum =0\n",
    "for i in range (2,len(argv)):\n",
    "    sum+=float(argv[i])\n",
    "print (\"the Average for{0} is {1:.2f}\".format(argv[1],sum/(len(argv)-2)))"
   ]
  },
  {
   "cell_type": "code",
   "execution_count": 5,
   "id": "ba9f95b9-80d7-45fa-86ff-e562bab0557a",
   "metadata": {},
   "outputs": [
    {
     "name": "stdout",
     "output_type": "stream",
     "text": [
      "16\n"
     ]
    }
   ],
   "source": [
    "#3 consider the code\n",
    "x=3\n",
    "x+=1\n",
    "#line 1\n",
    "#what should be inserted at line 1 so that x value will become 16\n",
    "x**=2\n",
    "print(x)"
   ]
  },
  {
   "cell_type": "code",
   "execution_count": 7,
   "id": "ead5ae4b-4af4-4713-b297-30f3b7544b7d",
   "metadata": {},
   "outputs": [
    {
     "name": "stdin",
     "output_type": "stream",
     "text": [
      "enter some value: 10.0\n"
     ]
    },
    {
     "name": "stdout",
     "output_type": "stream",
     "text": [
      "<class 'str'>\n"
     ]
    },
    {
     "name": "stdin",
     "output_type": "stream",
     "text": [
      "enter some value: 10\n"
     ]
    },
    {
     "name": "stdout",
     "output_type": "stream",
     "text": [
      "<class 'str'>\n"
     ]
    }
   ],
   "source": [
    "##4 consider the code:\n",
    "print(type(input('enter some value:')))\n",
    "print(type(input('enter some value:')))"
   ]
  },
  {
   "cell_type": "code",
   "execution_count": null,
   "id": "17d6ede1-9408-4416-8556-1ee516cfd8b8",
   "metadata": {},
   "outputs": [],
   "source": [
    "##5 consider the python code\n",
    "a=['a', 'b','c', 'd']\n",
    "for i in a:\n",
    "    a.append(i.upper())\n",
    "print(a)\n",
    "##the code content will keep on added and it wont end. causing \"MEMORY ERROR THROWN AT RUNTIME\""
   ]
  },
  {
   "cell_type": "code",
   "execution_count": null,
   "id": "b08d6d6d-512f-4f77-853f-81a9bc0b296c",
   "metadata": {},
   "outputs": [],
   "source": [
    "#6 \n",
    "a='5'\n",
    "b='2'\n",
    "(a*2)\n",
    "(a+b)\n",
    "(b*2)"
   ]
  },
  {
   "cell_type": "code",
   "execution_count": 9,
   "id": "32e047ba-00dc-43e4-8053-92e811b10cc9",
   "metadata": {},
   "outputs": [
    {
     "name": "stdin",
     "output_type": "stream",
     "text": [
      "enter some value: 10.0\n"
     ]
    },
    {
     "name": "stdout",
     "output_type": "stream",
     "text": [
      "<class 'float'>\n"
     ]
    },
    {
     "name": "stdin",
     "output_type": "stream",
     "text": [
      "enter some value: 10\n"
     ]
    },
    {
     "name": "stdout",
     "output_type": "stream",
     "text": [
      "<class 'int'>\n"
     ]
    }
   ],
   "source": [
    "##7\n",
    "print(type(eval(input('enter some value:'))))\n",
    "print(type(eval(input('enter some value:'))))\n",
    "##eval function converts str type to corresponding type automatically"
   ]
  },
  {
   "cell_type": "code",
   "execution_count": null,
   "id": "fc7b6356-da6a-40fa-8c63-085edf9a6ceb",
   "metadata": {},
   "outputs": [],
   "source": [
    "##8 consider the code\n",
    "a=7\n",
    "b=3\n",
    "c=5\n",
    "d=1\n",
    "output=a%c+1==7%5+1=3\n",
    "      a+d*2==7+1*2==9\n",
    "      a+c//d==7+5//1=12\n",
    "       c*d-1==5*1-1=4"
   ]
  },
  {
   "cell_type": "code",
   "execution_count": null,
   "id": "8d0a7324-2d46-41aa-820c-139c9899602e",
   "metadata": {},
   "outputs": [],
   "source": [
    "##9"
   ]
  },
  {
   "cell_type": "code",
   "execution_count": null,
   "id": "6b685d08-817c-4f3e-9540-8f3ae24d7713",
   "metadata": {},
   "outputs": [],
   "source": [
    "#10 consider the following expression :\n",
    "6//4%5+2**3-2//3\n",
    "6//4%5+8-0\n",
    "1%5+8\n",
    "1+8\n",
    "9"
   ]
  },
  {
   "cell_type": "code",
   "execution_count": 14,
   "id": "47d087a1-0777-4a74-8bb3-911a8482711d",
   "metadata": {},
   "outputs": [
    {
     "name": "stdout",
     "output_type": "stream",
     "text": [
      "TT\n"
     ]
    }
   ],
   "source": [
    "#11\n",
    "x='TEXT'\n",
    "output=x[0]+x[3]\n",
    "print(output)"
   ]
  },
  {
   "cell_type": "code",
   "execution_count": 2,
   "id": "c4c78c34-ec1a-43fb-acd0-3eb35eb0800e",
   "metadata": {},
   "outputs": [
    {
     "name": "stdout",
     "output_type": "stream",
     "text": [
      "False\n",
      "True\n",
      "False\n"
     ]
    }
   ],
   "source": [
    "#12\n",
    "print(10==10 and 20!=20)\n",
    "print(10==10 or 20!=20)\n",
    "print(not 10==10)"
   ]
  },
  {
   "cell_type": "code",
   "execution_count": null,
   "id": "9cc0645a-ae17-4350-ac13-284e1dc5af46",
   "metadata": {},
   "outputs": [],
   "source": [
    "#13 consider the code\n",
    "a=float ('123.456')\n",
    "#which expression evaluates to 2\n",
    "bool(a)== True\n",
    "bool(a)+ False=1\n",
    "str(a)=123.456\n",
    "bool(a)+True =2"
   ]
  },
  {
   "cell_type": "code",
   "execution_count": 14,
   "id": "55b08a88-c25a-463a-a731-ca10f9fa49a0",
   "metadata": {},
   "outputs": [
    {
     "name": "stdin",
     "output_type": "stream",
     "text": [
      "enter the distance travelled in feet: 14\n"
     ]
    },
    {
     "ename": "NameError",
     "evalue": "name 'times' is not defined",
     "output_type": "error",
     "traceback": [
      "\u001b[1;31m---------------------------------------------------------------------------\u001b[0m",
      "\u001b[1;31mNameError\u001b[0m                                 Traceback (most recent call last)",
      "Cell \u001b[1;32mIn[14], line 7\u001b[0m\n\u001b[0;32m      5\u001b[0m distance\u001b[38;5;241m=\u001b[39m\u001b[38;5;28mfloat\u001b[39m(\u001b[38;5;28minput\u001b[39m(\u001b[38;5;124m\"\u001b[39m\u001b[38;5;124menter the distance travelled in feet:\u001b[39m\u001b[38;5;124m\"\u001b[39m))\n\u001b[0;32m      6\u001b[0m distance_miles\u001b[38;5;241m=\u001b[39mdistance\u001b[38;5;241m/\u001b[39m\u001b[38;5;241m5280\u001b[39m\n\u001b[1;32m----> 7\u001b[0m times\u001b[38;5;241m==\u001b[39m\u001b[38;5;28mfloat\u001b[39m(\u001b[38;5;28minput\u001b[39m(\u001b[38;5;124m\"\u001b[39m\u001b[38;5;124menter the time elapsed in seconds:\u001b[39m\u001b[38;5;124m\"\u001b[39m))\n\u001b[0;32m      8\u001b[0m times_hours\u001b[38;5;241m=\u001b[39mtimes\u001b[38;5;241m/\u001b[39m\u001b[38;5;241m3600\u001b[39m\n\u001b[0;32m      9\u001b[0m velocity\u001b[38;5;241m=\u001b[39mdistance_miles\u001b[38;5;241m/\u001b[39mtimes_hours\n",
      "\u001b[1;31mNameError\u001b[0m: name 'times' is not defined"
     ]
    }
   ],
   "source": [
    "#14\n",
    "#you are intern for XYZ cars company. you have to create a function that calculates the average \n",
    "#velocity of vehicle on a 2640 foot tract\n",
    "#consider the pyhton code\n",
    "distance=float(input(\"enter the distance travelled in feet:\"))\n",
    "distance_miles=distance/5280\n",
    "times==float(input(\"enter the time elapsed in seconds:\"))\n",
    "times_hours=times/3600\n",
    "velocity=distance_miles/times_hours\n",
    "print(\"the average velocity:\",velocity,miles/hour)\n",
    "#to generate most precise output, which modifications should be done at line-1 and at line -2\n",
    "\n",
    "# for precised answer we need to use float as dist and time can be in decimals "
   ]
  },
  {
   "cell_type": "code",
   "execution_count": 15,
   "id": "704f57f1-52c9-4de9-b7d0-a08b6232481d",
   "metadata": {},
   "outputs": [
    {
     "name": "stdin",
     "output_type": "stream",
     "text": [
      "how many items do u require?? 45.23\n"
     ]
    },
    {
     "name": "stdout",
     "output_type": "stream",
     "text": [
      "45\n"
     ]
    }
   ],
   "source": [
    "#15 the XYZ company has hired u for a coding team that craetes a e-commerce application. you must\n",
    "# write a script that asks user for a value . the value must be used as a whole numbers even if users \n",
    "#enter decimal value\n",
    "print(int(float(input(\"how many items do u require??\"))))"
   ]
  },
  {
   "cell_type": "code",
   "execution_count": 16,
   "id": "853c9b25-36c7-410d-85bf-1e6bbd41a1ef",
   "metadata": {},
   "outputs": [
    {
     "name": "stdout",
     "output_type": "stream",
     "text": [
      "True\n"
     ]
    }
   ],
   "source": [
    "#16 in which of the following cases True will be printed \n",
    "print('r' in 'durga')"
   ]
  },
  {
   "cell_type": "code",
   "execution_count": 17,
   "id": "5d626690-ffe7-467b-a9e4-e4e62d9577c4",
   "metadata": {},
   "outputs": [
    {
     "name": "stdout",
     "output_type": "stream",
     "text": [
      "True\n"
     ]
    }
   ],
   "source": [
    "#16 in which of the following cases True will be printed \n",
    "print('is' in 'This IS a Fake News')"
   ]
  },
  {
   "cell_type": "code",
   "execution_count": 18,
   "id": "1b27de9a-6f6b-42d7-8e9b-321a59654563",
   "metadata": {},
   "outputs": [
    {
     "name": "stdout",
     "output_type": "stream",
     "text": [
      "10\n"
     ]
    }
   ],
   "source": [
    "#17 consider the code \n",
    "x=2\n",
    "y=6\n",
    "x+=2**3 #x=2+2**3===2+8==10\n",
    "x\n",
    "print(x)"
   ]
  },
  {
   "cell_type": "code",
   "execution_count": 19,
   "id": "dd9397d2-39b1-4e26-b61f-987e0b4864db",
   "metadata": {},
   "outputs": [],
   "source": [
    "#18"
   ]
  },
  {
   "cell_type": "code",
   "execution_count": 22,
   "id": "cafc022d-de9c-4beb-8830-b5c8ea023ae6",
   "metadata": {},
   "outputs": [
    {
     "name": "stdin",
     "output_type": "stream",
     "text": [
      "enter the number 12345\n"
     ]
    },
    {
     "name": "stdout",
     "output_type": "stream",
     "text": [
      "12346\n"
     ]
    }
   ],
   "source": [
    "#19 if the user enters 12345 as input. which of the following code will prunt 12346 to console\n",
    "sum=int(input(\"enter the number\")) ## in place of int we can use EVAL as well\n",
    "print(sum+1)"
   ]
  },
  {
   "cell_type": "code",
   "execution_count": 30,
   "id": "90cdeb97-d36a-4246-8126-98baf4c1dae4",
   "metadata": {},
   "outputs": [],
   "source": [
    "#20 consider the code\n",
    "t=([10,20],10,False)\n",
    "#which line of code assigns <class 'list> to x\n",
    "x=type(t[0]) == <class 'list>"
   ]
  },
  {
   "cell_type": "code",
   "execution_count": null,
   "id": "1db61526-675a-4792-9334-6cf9bd0e87ed",
   "metadata": {},
   "outputs": [],
   "source": [
    "#21 which expression would evaluate to 2?\n",
    "11/2==5.5\n",
    "22%5==2\n",
    "13//4==3\n",
    "3**2=9"
   ]
  },
  {
   "cell_type": "code",
   "execution_count": 32,
   "id": "9cc8274a-938c-4fb6-b45c-4b7ca6f190ca",
   "metadata": {},
   "outputs": [
    {
     "name": "stdout",
     "output_type": "stream",
     "text": [
      "25.0\n"
     ]
    }
   ],
   "source": [
    "#22 consider the code \n",
    "x=3/3+3**3-3\n",
    "print(x)"
   ]
  },
  {
   "cell_type": "code",
   "execution_count": 34,
   "id": "9b8c8fdd-995c-4c34-859e-eec6517b61b7",
   "metadata": {},
   "outputs": [
    {
     "name": "stdout",
     "output_type": "stream",
     "text": [
      "6.0\n"
     ]
    }
   ],
   "source": [
    "##23 consider the python code :\n",
    "result=str(bool(1)+float(10)/float(2))\n",
    "print(result)"
   ]
  },
  {
   "cell_type": "code",
   "execution_count": null,
   "id": "ca3a2ed4-5c91-43dd-80ca-0afc27e7409f",
   "metadata": {},
   "outputs": [],
   "source": [
    "#24"
   ]
  },
  {
   "cell_type": "code",
   "execution_count": 37,
   "id": "80337230-15ec-4140-a2fd-de290e20457a",
   "metadata": {},
   "outputs": [
    {
     "name": "stdout",
     "output_type": "stream",
     "text": [
      "enter ur name:\n"
     ]
    },
    {
     "name": "stdin",
     "output_type": "stream",
     "text": [
      " Shruti\n"
     ]
    },
    {
     "name": "stdout",
     "output_type": "stream",
     "text": [
      "Shruti\n"
     ]
    }
   ],
   "source": [
    "#25 consider the code:\n",
    "#you develop a python application for your company. you required to accept input from user \n",
    "#and print that info to user screen \n",
    "#consider the code:\n",
    "print(\"enter ur name:\")\n",
    "#line-1\n",
    "name=input()\n",
    "print(name)"
   ]
  },
  {
   "cell_type": "code",
   "execution_count": null,
   "id": "bfc8285d-cf73-4714-b90d-05c085e6bed3",
   "metadata": {},
   "outputs": [],
   "source": [
    "#26\n",
    "true and false evaluates to False\n",
    "True+1 evaluates to 2"
   ]
  },
  {
   "cell_type": "code",
   "execution_count": 38,
   "id": "41b967b9-155c-4b21-ae1d-068736730098",
   "metadata": {},
   "outputs": [
    {
     "name": "stdout",
     "output_type": "stream",
     "text": [
      "True\n",
      "False\n",
      "True\n",
      "False\n",
      "True\n"
     ]
    }
   ],
   "source": [
    "#27 consider the code:\n",
    "print(not 0)\n",
    "print(not 10)\n",
    "print(not '')\n",
    "print(not 'durga')\n",
    "print(not None)"
   ]
  },
  {
   "cell_type": "code",
   "execution_count": 39,
   "id": "6b40d4f3-5b7c-4cb3-985d-71d4a07c8636",
   "metadata": {},
   "outputs": [
    {
     "name": "stdout",
     "output_type": "stream",
     "text": [
      "True\n",
      "False\n",
      "False\n",
      "False\n"
     ]
    }
   ],
   "source": [
    "#28 consider the python code:\n",
    "l1=['sunny', 'bunny', 'chinny', 'vinny']\n",
    "l2=['sunny', 'bunny', 'chinny', 'vinny']\n",
    "print(l1 is not l2)\n",
    "print(l1!=l2)\n",
    "l1=l2\n",
    "print(l1 is not l2)\n",
    "print(l1 != l2)"
   ]
  },
  {
   "cell_type": "code",
   "execution_count": null,
   "id": "7a4fb46d-fa17-40b7-8e3c-5ad54202bc9f",
   "metadata": {},
   "outputs": [],
   "source": [
    "#29 in which case we will get <class 'int'> as output ?\n",
    "x=2**2**2\n",
    "print(type(x)) ==> <class 'int'> \n",
    "\n",
    "x='47'\n",
    "print(type(x)) ==> <class 'str'>\n",
    "\n",
    "x=47.0\n",
    "print(type(x))  ==> <class 'float'>\n",
    "\n",
    "x=10+20\n",
    "print(type(x))  ==> <class 'complex'>"
   ]
  },
  {
   "cell_type": "code",
   "execution_count": null,
   "id": "49347598-e9a6-4003-bc4a-74874be008c3",
   "metadata": {},
   "outputs": [],
   "source": [
    "#30 consider the code :\n",
    "s= 'DURGA SOFT' \n",
    "#Wich of the following lines will assign 9 to variable result ?\n",
    "result=len(s.replace(' ','')) ==> 'DURGASOFT'"
   ]
  },
  {
   "cell_type": "code",
   "execution_count": null,
   "id": "b19856fa-48b9-4d6d-9580-b398573ae236",
   "metadata": {},
   "outputs": [],
   "source": [
    "#31 "
   ]
  },
  {
   "cell_type": "code",
   "execution_count": 51,
   "id": "ffaa5e9a-2f1b-42b9-a7ee-b7c834c24d14",
   "metadata": {},
   "outputs": [],
   "source": [
    "#32  \n",
    "b='BANANA'\n",
    "print=(b[1]+b[3]) == 'AA'\n",
    "print=(b[3]+b[5]) == 'AA'\n",
    "print=(b[1]+b[5]) == 'AA'\n",
    "print=(b[1]+b[2]) == 'AN'"
   ]
  },
  {
   "cell_type": "code",
   "execution_count": 2,
   "id": "38aad5b4-ee50-4c9e-9a67-0c5f2a299b2a",
   "metadata": {},
   "outputs": [
    {
     "name": "stdout",
     "output_type": "stream",
     "text": [
      "False\n",
      "True\n",
      "True\n",
      "True\n"
     ]
    }
   ],
   "source": [
    "#33 consider the python code:\n",
    "l1=['sunny', 'bunny', 'chinny', 'vinny']\n",
    "l2=['sunny', 'bunny', 'chinny', 'vinny']\n",
    "print(l1 is  l2)\n",
    "print(l1==l2)\n",
    "l1=l2\n",
    "print(l1 is l2)\n",
    "print(l1 == l2)"
   ]
  },
  {
   "cell_type": "code",
   "execution_count": 6,
   "id": "5cb94779-dc1b-4548-87bb-2e1b3a012226",
   "metadata": {},
   "outputs": [
    {
     "name": "stdout",
     "output_type": "stream",
     "text": [
      "0\n"
     ]
    }
   ],
   "source": [
    "##34 \n",
    "V1=1\n",
    "V2=0\n",
    "V1=V1^V2\n",
    "V2=V1^V2\n",
    "V1=V1^V2\n",
    "print(V1)\n",
    "#XOR operator:- ^ so if both bits are same then result is 1\n",
    "#here v1=1 then v2=1 soo v1=1^1=0"
   ]
  },
  {
   "cell_type": "code",
   "execution_count": 10,
   "id": "db690897-d85f-4b7c-b457-388d524fe0d6",
   "metadata": {},
   "outputs": [
    {
     "name": "stdin",
     "output_type": "stream",
     "text": [
      "enter the number of customers of bank: 15\n"
     ]
    },
    {
     "name": "stdout",
     "output_type": "stream",
     "text": [
      "20\n"
     ]
    }
   ],
   "source": [
    "#35 consider the code:the output should be 20 if input is 15\n",
    "count=input(\"enter the number of customers of bank:\")\n",
    "#line-1\n",
    "output=int(count)+5\n",
    "print(output)"
   ]
  },
  {
   "cell_type": "code",
   "execution_count": 12,
   "id": "5132f7d6-79b7-402f-ad70-dc86f11b334a",
   "metadata": {},
   "outputs": [
    {
     "name": "stdout",
     "output_type": "stream",
     "text": [
      "1020\n"
     ]
    },
    {
     "data": {
      "text/plain": [
       "str"
      ]
     },
     "execution_count": 12,
     "metadata": {},
     "output_type": "execute_result"
    }
   ],
   "source": [
    "#36 consider the code:\n",
    "x='10'\n",
    "y='20'\n",
    "#the type of x+y?\n",
    "print(x+y)\n",
    "type(x+y)"
   ]
  },
  {
   "cell_type": "code",
   "execution_count": null,
   "id": "a192100f-3cbf-4580-ac2a-793269199f54",
   "metadata": {},
   "outputs": [],
   "source": [
    "##37 whichbof the following string declarations spans more than one line and considers \n",
    "#white space properly when the string is printed to console ?\n",
    "\n",
    "S1='''Bharat \n",
    "          Software\n",
    "                Solutions'''\n",
    "\n",
    "# multiline string literals should be enclosed within triple quotes"
   ]
  },
  {
   "cell_type": "code",
   "execution_count": 14,
   "id": "cd82833f-58fb-4cda-99fc-64f13577c82a",
   "metadata": {},
   "outputs": [
    {
     "name": "stdout",
     "output_type": "stream",
     "text": [
      "False\n",
      "True\n"
     ]
    }
   ],
   "source": [
    "##38 consider the code \n",
    "lst=[7,8,9]\n",
    "b=lst[:]\n",
    "print(b is lst)\n",
    "print(b==lst)"
   ]
  },
  {
   "cell_type": "code",
   "execution_count": null,
   "id": "7aeb8405-2c98-4be1-9b52-fa4cff02f777",
   "metadata": {},
   "outputs": [],
   "source": [
    "##39 S = \" Sachin Tendulkar is cricket's great player\"\n"
   ]
  },
  {
   "cell_type": "code",
   "execution_count": 19,
   "id": "64bc7c21-361c-4d00-85f6-1cd228a6389e",
   "metadata": {},
   "outputs": [
    {
     "name": "stdin",
     "output_type": "stream",
     "text": [
      "enter your clg name: BHARATSOFT\n",
      "enter ur city: Pune\n"
     ]
    },
    {
     "name": "stdout",
     "output_type": "stream",
     "text": [
      "welcome to BHARATSOFT in Pune\n"
     ]
    }
   ],
   "source": [
    "#40 \n",
    "#yyou r developing an app in which students will students will provide clg name and city as input\n",
    "#if student provides college  as BHARATSOFT and city as Pune,then our application has to provide the following greeting message. Welcome to BHARATSOFT in Pune\n",
    "\n",
    "college_name=input('enter your clg name:')\n",
    "city = input('enter ur city:')\n",
    "print('welcome to {} in {}'.format(college_name, city))"
   ]
  },
  {
   "cell_type": "code",
   "execution_count": 15,
   "id": "957fbd4a-0e89-4bde-9544-aeb8cac2d21b",
   "metadata": {},
   "outputs": [],
   "source": []
  },
  {
   "cell_type": "code",
   "execution_count": null,
   "id": "a3fb2dfb-c8a0-4781-9290-e0a779b40b4c",
   "metadata": {},
   "outputs": [],
   "source": []
  }
 ],
 "metadata": {
  "kernelspec": {
   "display_name": "Python 3 (ipykernel)",
   "language": "python",
   "name": "python3"
  },
  "language_info": {
   "codemirror_mode": {
    "name": "ipython",
    "version": 3
   },
   "file_extension": ".py",
   "mimetype": "text/x-python",
   "name": "python",
   "nbconvert_exporter": "python",
   "pygments_lexer": "ipython3",
   "version": "3.12.7"
  }
 },
 "nbformat": 4,
 "nbformat_minor": 5
}
