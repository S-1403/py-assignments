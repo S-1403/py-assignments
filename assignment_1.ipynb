{
 "cells": [
  {
   "cell_type": "code",
   "execution_count": null,
   "id": "0668ee9d-901e-448b-a41d-3e48b00f903f",
   "metadata": {},
   "outputs": [],
   "source": [
    "** What is 7 to the power of 4?**"
   ]
  },
  {
   "cell_type": "code",
   "execution_count": 2,
   "id": "02a52263-8ce6-4843-bf84-59dbcb469831",
   "metadata": {},
   "outputs": [
    {
     "data": {
      "text/plain": [
       "2401"
      ]
     },
     "execution_count": 2,
     "metadata": {},
     "output_type": "execute_result"
    }
   ],
   "source": [
    "7**4"
   ]
  },
  {
   "cell_type": "code",
   "execution_count": null,
   "id": "ca9e3016-9ea4-497c-bd8a-23ff8ed6ebec",
   "metadata": {},
   "outputs": [],
   "source": [
    "** Split this string:**"
   ]
  },
  {
   "cell_type": "code",
   "execution_count": 4,
   "id": "c3aa42e2-809a-41ad-a3cf-09b0e5bf12ff",
   "metadata": {},
   "outputs": [],
   "source": [
    "s= \"Hi there yogesh!\""
   ]
  },
  {
   "cell_type": "code",
   "execution_count": 5,
   "id": "88d5699d-190a-4c46-a7d4-cf6a73014a71",
   "metadata": {},
   "outputs": [
    {
     "data": {
      "text/plain": [
       "'Hi there yogesh!'"
      ]
     },
     "execution_count": 5,
     "metadata": {},
     "output_type": "execute_result"
    }
   ],
   "source": [
    "s"
   ]
  },
  {
   "cell_type": "code",
   "execution_count": 6,
   "id": "a7a01280-7406-444a-9ade-d65608462be0",
   "metadata": {},
   "outputs": [
    {
     "data": {
      "text/plain": [
       "['Hi', 'there', 'yogesh!']"
      ]
     },
     "execution_count": 6,
     "metadata": {},
     "output_type": "execute_result"
    }
   ],
   "source": [
    "s.split()"
   ]
  },
  {
   "cell_type": "code",
   "execution_count": null,
   "id": "a3073ca9-4cc1-48ca-95ce-9312bb1a8e8f",
   "metadata": {},
   "outputs": [],
   "source": [
    "** Given the variables:**\n",
    "\n",
    "planet = \"Earth\"\n",
    "diameter = 12742\n",
    "** Use .format() to print the following string: **\n",
    "\n",
    "The diameter of Earth is 12742 kilometers."
   ]
  },
  {
   "cell_type": "code",
   "execution_count": 7,
   "id": "48fae735-f2ab-45cf-8ed7-17ffd010da84",
   "metadata": {},
   "outputs": [],
   "source": [
    "planet=\"Earth\"\n",
    "diameter =12742"
   ]
  },
  {
   "cell_type": "code",
   "execution_count": 8,
   "id": "330ad183-d907-451b-8503-91adb9b2a866",
   "metadata": {},
   "outputs": [],
   "source": [
    "a=planet\n",
    "b=diameter"
   ]
  },
  {
   "cell_type": "code",
   "execution_count": 9,
   "id": "c7ef6555-ff5d-475e-a582-1b5aa6eea713",
   "metadata": {},
   "outputs": [
    {
     "data": {
      "text/plain": [
       "'Earth'"
      ]
     },
     "execution_count": 9,
     "metadata": {},
     "output_type": "execute_result"
    }
   ],
   "source": [
    "a"
   ]
  },
  {
   "cell_type": "code",
   "execution_count": 14,
   "id": "6d82ca2f-f6a0-4623-a27a-3232999272a1",
   "metadata": {},
   "outputs": [
    {
     "data": {
      "text/plain": [
       "'the diameter of Earth is 12742 kilometers'"
      ]
     },
     "execution_count": 14,
     "metadata": {},
     "output_type": "execute_result"
    }
   ],
   "source": [
    "'the diameter of {} is {} kilometers'. format(a,b)"
   ]
  },
  {
   "cell_type": "code",
   "execution_count": null,
   "id": "3cfd7cb7-6de3-43d9-b1b7-dbfefbd0c149",
   "metadata": {},
   "outputs": [],
   "source": [
    "** Given this nested list, use indexing to grab the word \"hello\" **\n",
    "lst = [1,2,[3,4],[5,[100,200,['hello']],23,11],1,7]"
   ]
  },
  {
   "cell_type": "code",
   "execution_count": 17,
   "id": "59f83301-2716-4993-86f7-b1885e953bc1",
   "metadata": {},
   "outputs": [],
   "source": [
    "lst = [1,2,[3,4],[5,[100,200,['hello']],23,11],1,7]"
   ]
  },
  {
   "cell_type": "code",
   "execution_count": 18,
   "id": "bf20bae9-a518-472d-a6a3-a4347bc9605c",
   "metadata": {},
   "outputs": [
    {
     "data": {
      "text/plain": [
       "[1, 2, [3, 4], [5, [100, 200, ['hello']], 23, 11], 1, 7]"
      ]
     },
     "execution_count": 18,
     "metadata": {},
     "output_type": "execute_result"
    }
   ],
   "source": [
    "lst"
   ]
  },
  {
   "cell_type": "code",
   "execution_count": 2,
   "id": "7bab26ad-7ed8-424a-9e72-3fffe7755bca",
   "metadata": {},
   "outputs": [
    {
     "ename": "NameError",
     "evalue": "name 'lst' is not defined",
     "output_type": "error",
     "traceback": [
      "\u001b[1;31m---------------------------------------------------------------------------\u001b[0m",
      "\u001b[1;31mNameError\u001b[0m                                 Traceback (most recent call last)",
      "Cell \u001b[1;32mIn[2], line 1\u001b[0m\n\u001b[1;32m----> 1\u001b[0m lst[\u001b[38;5;241m3\u001b[39m][\u001b[38;5;241m1\u001b[39m][\u001b[38;5;241m2\u001b[39m]\n",
      "\u001b[1;31mNameError\u001b[0m: name 'lst' is not defined"
     ]
    }
   ],
   "source": [
    "lst[3][1][2]"
   ]
  },
  {
   "cell_type": "code",
   "execution_count": null,
   "id": "9faef0b0-67af-4993-9ca1-4692c7dda422",
   "metadata": {},
   "outputs": [],
   "source": [
    "** Given this nested dictionary grab the word \"hello\". Be prepared, this will be annoying/tricky **\n",
    "d = {'k1':[1,2,3,{'tricky':['oh','man','inception',{'target':[1,2,3,'hello']}]}]}"
   ]
  },
  {
   "cell_type": "code",
   "execution_count": 31,
   "id": "7c803639-f811-4f29-854c-674f1760f13c",
   "metadata": {},
   "outputs": [],
   "source": [
    "d={'k1':[1,2,3,{'tricky':['oh','man','inception',{'target':[1,2,3,'hello']}]}]}"
   ]
  },
  {
   "cell_type": "code",
   "execution_count": 33,
   "id": "122a0b12-9744-421c-ba72-7ca349edebe7",
   "metadata": {},
   "outputs": [
    {
     "data": {
      "text/plain": [
       "dict"
      ]
     },
     "execution_count": 33,
     "metadata": {},
     "output_type": "execute_result"
    }
   ],
   "source": [
    "type(d)"
   ]
  },
  {
   "cell_type": "code",
   "execution_count": 32,
   "id": "3db8eff2-9674-4b5d-b4c8-ee476bbfa460",
   "metadata": {},
   "outputs": [
    {
     "data": {
      "text/plain": [
       "{'k1': [1,\n",
       "  2,\n",
       "  3,\n",
       "  {'tricky': ['oh', 'man', 'inception', {'target': [1, 2, 3, 'hello']}]}]}"
      ]
     },
     "execution_count": 32,
     "metadata": {},
     "output_type": "execute_result"
    }
   ],
   "source": [
    "d"
   ]
  },
  {
   "cell_type": "markdown",
   "id": "9a48f859-cf54-4d95-98e1-88657c04df74",
   "metadata": {},
   "source": [
    " d['k1']"
   ]
  },
  {
   "cell_type": "code",
   "execution_count": 39,
   "id": "66691efd-fd33-4ac4-a53f-505857a284a7",
   "metadata": {},
   "outputs": [
    {
     "data": {
      "text/plain": [
       "'hello'"
      ]
     },
     "execution_count": 39,
     "metadata": {},
     "output_type": "execute_result"
    }
   ],
   "source": [
    "d ['k1'][3]['tricky'][3]['target'][3]"
   ]
  },
  {
   "cell_type": "code",
   "execution_count": null,
   "id": "d85b9ddc-3985-420b-be8d-4a11b670f6ad",
   "metadata": {},
   "outputs": [],
   "source": [
    "** What is the main difference between a tuple and a list? **"
   ]
  },
  {
   "cell_type": "code",
   "execution_count": null,
   "id": "befe4d53-d2ca-4a57-af18-d69f3b38ed42",
   "metadata": {},
   "outputs": [],
   "source": [
    "The main difference between list and tuple is that list are mutable where as tuple are immutable "
   ]
  },
  {
   "cell_type": "code",
   "execution_count": null,
   "id": "e212ce5a-7586-4260-813b-dffae442a7a9",
   "metadata": {},
   "outputs": [],
   "source": [
    "** Create a function that grabs the email website domain from a string in the form: **\n",
    "\n",
    "user@domain.com\n",
    "    So for example, passing \"user@domain.com\" would return: domain.com"
   ]
  },
  {
   "cell_type": "code",
   "execution_count": null,
   "id": "a9d68ad0-bd3e-457f-a268-189aa0b4db69",
   "metadata": {},
   "outputs": [],
   "source": [
    "s='shruti@gmail.com'"
   ]
  },
  {
   "cell_type": "code",
   "execution_count": 11,
   "id": "911ecc45-e11e-4ffd-a867-d581d8a7f08f",
   "metadata": {},
   "outputs": [],
   "source": [
    "def fun1(s):\n",
    "    d=s.split('@')\n",
    "    print(d[1])"
   ]
  },
  {
   "cell_type": "code",
   "execution_count": null,
   "id": "71df7890-7e76-49b1-bb18-59f9c9d2d47a",
   "metadata": {},
   "outputs": [],
   "source": [
    "** Create a basic function that returns True if the word 'dog' is contained in the input string. Don't worry about edge cases like a punctuation being attached to the word dog, but do account for capitalization. **"
   ]
  },
  {
   "cell_type": "code",
   "execution_count": 9,
   "id": "91470a41-3d19-40d0-9112-61477486514c",
   "metadata": {},
   "outputs": [
    {
     "name": "stdout",
     "output_type": "stream",
     "text": [
      "True\n",
      "False\n"
     ]
    }
   ],
   "source": [
    "def contains_dog(s):\n",
    "    return \"dog\" in s.lower()\n",
    "print(contains_dog(\"I have a Dog\"))  # True\n",
    "print(contains_dog(\"This is a cat\"))  # False"
   ]
  },
  {
   "cell_type": "code",
   "execution_count": null,
   "id": "126abf96-1b0d-410c-84f7-b613998e9e97",
   "metadata": {},
   "outputs": [],
   "source": [
    "** Create a function that counts the number of times the word \"dog\" occurs in a string. Again ignore edge cases. **"
   ]
  },
  {
   "cell_type": "code",
   "execution_count": null,
   "id": "ed75b5cb-427a-43f1-9378-a2a575348795",
   "metadata": {},
   "outputs": [],
   "source": [
    "countDog('This dog runs faster than the other dog dude!')\n"
   ]
  },
  {
   "cell_type": "code",
   "execution_count": 12,
   "id": "0affc1fa-7eb9-470d-b8ea-67be93ab959b",
   "metadata": {},
   "outputs": [],
   "source": [
    "def count_dog(s):\n",
    "    c=0\n",
    "    for v in s.lower().split():\n",
    "        if v=='dog':\n",
    "            c=c+1\n",
    "    print(c)"
   ]
  },
  {
   "cell_type": "code",
   "execution_count": 17,
   "id": "40709628-0db0-4cef-a44f-1964f8dd6bce",
   "metadata": {},
   "outputs": [
    {
     "data": {
      "text/plain": [
       "2"
      ]
     },
     "execution_count": 17,
     "metadata": {},
     "output_type": "execute_result"
    }
   ],
   "source": [
    "count_dog('This dog runs faster than the other dog dude!')\n"
   ]
  },
  {
   "cell_type": "code",
   "execution_count": null,
   "id": "0ed2a964-9bf8-4aff-a0e1-9c3644532467",
   "metadata": {},
   "outputs": [],
   "source": [
    "** Use lambda expressions and the filter() function to filter out words from a list that don't start with the letter 's'. For example:**\n",
    "\n",
    "    seq = ['soup','dog','salad','cat','great']\n",
    "\n",
    "**should be filtered down to:**\n",
    "\n",
    "    ['soup','salad']"
   ]
  },
  {
   "cell_type": "code",
   "execution_count": 21,
   "id": "78f03eda-f39e-4ab9-8b48-adcdf6deba27",
   "metadata": {},
   "outputs": [],
   "source": [
    "seq= ['soup','dog','salad','cat','great']"
   ]
  },
  {
   "cell_type": "code",
   "execution_count": 14,
   "id": "05cd7d95-fec0-4130-a736-ec053ea209e3",
   "metadata": {},
   "outputs": [],
   "source": [
    "seq = ['soup','dog','salad','cat','great']"
   ]
  },
  {
   "cell_type": "code",
   "execution_count": 28,
   "id": "849247b7-0131-43fd-8169-929981653839",
   "metadata": {},
   "outputs": [
    {
     "data": {
      "text/plain": [
       "(<function __main__.<lambda>(item)>, ['soup', 'dog', 'salad', 'cat', 'great'])"
      ]
     },
     "execution_count": 28,
     "metadata": {},
     "output_type": "execute_result"
    }
   ],
   "source": [
    "lambda item:item[0]=='s',seq"
   ]
  },
  {
   "cell_type": "code",
   "execution_count": 15,
   "id": "2843cf61-e31c-4bbe-b04b-5f017cc75129",
   "metadata": {},
   "outputs": [
    {
     "data": {
      "text/plain": [
       "['dog', 'cat', 'great']"
      ]
     },
     "execution_count": 15,
     "metadata": {},
     "output_type": "execute_result"
    }
   ],
   "source": [
    "list(filter(lambda item:item[0]!='s',seq))\n"
   ]
  },
  {
   "cell_type": "code",
   "execution_count": null,
   "id": "a0d9ad85-cdbd-407e-947c-545c75daf653",
   "metadata": {},
   "outputs": [],
   "source": [
    "*You are driving a little too fast, and a police officer stops you. Write a function to return one of 3 possible results: \"No ticket\", \"Small ticket\", or \"Big Ticket\". If your speed is 60 or less, the result is \"No Ticket\". If speed is between 61 and 80 inclusive, the result is \"Small Ticket\". If speed is 81 or more, the result is \"Big Ticket\". Unless it is your birthday (encoded as a boolean value in the parameters of the function) -- on your birthday, your speed can be 5 higher in all cases. *"
   ]
  },
  {
   "cell_type": "code",
   "execution_count": 33,
   "id": "d1bb5fb0-3b9b-4533-b954-c975670d5c5d",
   "metadata": {},
   "outputs": [],
   "source": [
    "def caught_speed(speed, is_birthday):\n",
    "    speed_val = speed\n",
    "    if is_birthday == True:\n",
    "        speed= speed-5\n",
    "    else:\n",
    "        speed = speed_val\n",
    "    if speed <=60:\n",
    "         print(\"small ticket\")\n",
    "    elif speed>60 and speed<81:\n",
    "        print (\"small ticket\")\n",
    "    elif speed>=81:\n",
    "        print (\"big ticket\")\n",
    "    print (speed)\n"
   ]
  },
  {
   "cell_type": "code",
   "execution_count": null,
   "id": "20376a6c-d300-4445-bc75-443bdf562336",
   "metadata": {},
   "outputs": [],
   "source": [
    "def caught_speed(speed, is_birthday):\n",
    "    speed_val = speed\n",
    "    if is_birthday == True:\n",
    "        speed= speed-5\n",
    "    else:\n",
    "        speed = speed_val\n",
    "    if speed <=60:\n",
    "         print(\"small ticket\")\n",
    "    elif speed>60 and speed<81:\n",
    "        print (\"small ticket\")\n",
    "    elif speed>=81:\n",
    "        print (\"big ticket\")\n",
    "    print (speed)"
   ]
  },
  {
   "cell_type": "code",
   "execution_count": 34,
   "id": "80ac06d1-8a7d-435f-adc8-56eeb30bc779",
   "metadata": {},
   "outputs": [
    {
     "name": "stdout",
     "output_type": "stream",
     "text": [
      "big ticket\n",
      "81\n"
     ]
    }
   ],
   "source": [
    "caught_speed(81,False)"
   ]
  },
  {
   "cell_type": "code",
   "execution_count": 35,
   "id": "5839d136-a03f-49ad-8238-3357a6280d3e",
   "metadata": {},
   "outputs": [
    {
     "name": "stdout",
     "output_type": "stream",
     "text": [
      "small ticket\n",
      "50\n"
     ]
    }
   ],
   "source": [
    "caught_speed(55,True)"
   ]
  },
  {
   "cell_type": "code",
   "execution_count": 36,
   "id": "6abf8cb8-de48-4911-a66e-3cde6223003e",
   "metadata": {},
   "outputs": [
    {
     "name": "stdout",
     "output_type": "stream",
     "text": [
      "small ticket\n",
      "71\n"
     ]
    }
   ],
   "source": [
    "caught_speed(71,False)"
   ]
  },
  {
   "cell_type": "code",
   "execution_count": null,
   "id": "47d4f18b-62d5-46f9-bbf7-ac5a5f0fa0fa",
   "metadata": {},
   "outputs": [],
   "source": [
    "WAP to check whether a number is palindrome or not on following conditions.\n",
    "1. take input number\n",
    "2. add number and its reverse\n",
    "3. check that number is palindrome or not,if not then sum and its reverse"
   ]
  },
  {
   "cell_type": "code",
   "execution_count": 3,
   "id": "04585f56-c581-4b46-ad75-6a3ab104048c",
   "metadata": {},
   "outputs": [
    {
     "name": "stdin",
     "output_type": "stream",
     "text": [
      "enter the number: 89\n"
     ]
    },
    {
     "name": "stdout",
     "output_type": "stream",
     "text": [
      "number is: 187\n",
      "reverse is: 781\n",
      "number is: 968\n",
      "reverse is: 869\n",
      "number is: 968\n",
      "reverse is: 869\n",
      "number is: 1837\n",
      "reverse is: 7381\n",
      "number is: 1837\n",
      "reverse is: 7381\n",
      "number is: 9218\n",
      "reverse is: 8129\n",
      "number is: 9218\n",
      "reverse is: 8129\n",
      "number is: 17347\n",
      "reverse is: 74371\n",
      "number is: 17347\n",
      "reverse is: 74371\n",
      "number is: 91718\n",
      "reverse is: 81719\n",
      "number is: 91718\n",
      "reverse is: 81719\n",
      "number is: 173437\n",
      "reverse is: 734371\n",
      "number is: 173437\n",
      "reverse is: 734371\n",
      "number is: 907808\n",
      "reverse is: 808709\n",
      "number is: 907808\n",
      "reverse is: 808709\n",
      "number is: 1716517\n",
      "reverse is: 7156171\n",
      "number is: 1716517\n",
      "reverse is: 7156171\n",
      "number is: 8872688\n",
      "reverse is: 8862788\n",
      "number is: 8872688\n",
      "reverse is: 8862788\n",
      "number is: 17735476\n",
      "reverse is: 67453771\n",
      "number is: 17735476\n",
      "reverse is: 67453771\n",
      "number is: 85189247\n",
      "reverse is: 74298158\n",
      "number is: 85189247\n",
      "reverse is: 74298158\n",
      "number is: 159487405\n",
      "reverse is: 504784951\n",
      "number is: 159487405\n",
      "reverse is: 504784951\n",
      "number is: 664272356\n",
      "reverse is: 653272466\n",
      "number is: 664272356\n",
      "reverse is: 653272466\n",
      "number is: 1317544822\n",
      "reverse is: 2284457131\n",
      "number is: 1317544822\n",
      "reverse is: 2284457131\n",
      "number is: 3602001953\n",
      "reverse is: 3591002063\n",
      "number is: 3602001953\n",
      "reverse is: 3591002063\n",
      "number is: 7193004016\n",
      "reverse is: 6104003917\n",
      "number is: 7193004016\n",
      "reverse is: 6104003917\n",
      "number is: 13297007933\n",
      "reverse is: 33970079231\n",
      "number is: 13297007933\n",
      "reverse is: 33970079231\n",
      "number is: 47267087164\n",
      "reverse is: 46178076274\n",
      "number is: 47267087164\n",
      "reverse is: 46178076274\n",
      "number is: 93445163438\n",
      "reverse is: 83436154439\n",
      "number is: 93445163438\n",
      "reverse is: 83436154439\n",
      "number is: 176881317877\n",
      "reverse is: 778713188671\n",
      "number is: 176881317877\n",
      "reverse is: 778713188671\n",
      "number is: 955594506548\n",
      "reverse is: 845605495559\n",
      "number is: 955594506548\n",
      "reverse is: 845605495559\n",
      "number is: 1801200002107\n",
      "reverse is: 7012000021081\n",
      "number is: 1801200002107\n",
      "reverse is: 7012000021081\n",
      "number is: 8813200023188\n",
      "reverse is: 8813200023188\n",
      "palindrome is 8813200023188\n"
     ]
    }
   ],
   "source": [
    "n1=input (\"enter the number:\")\n",
    "n2=int(n1[::-1])\n",
    "n3=str(int(n1)+n2)\n",
    "while n3!=n3[::-1]:\n",
    "    print(\"number is:\",n3)\n",
    "    print(\"reverse is:\",n3[::-1])\n",
    "    n3=str(int(n3)+int(n3[::-1]))\n",
    "    print(\"number is:\",n3)\n",
    "    print(\"reverse is:\",n3[::-1])\n",
    "print(\"palindrome is\",n3)"
   ]
  },
  {
   "cell_type": "code",
   "execution_count": null,
   "id": "48314029-ab3c-4346-9e1a-26094fc15777",
   "metadata": {},
   "outputs": [],
   "source": [
    "Question\n",
    "Given a string print number num by extracting all the\n",
    "digits from the string as in string\n",
    "Print negative number if the first character in \n",
    "string is '-'"
   ]
  },
  {
   "cell_type": "code",
   "execution_count": 4,
   "id": "cafbe060-cf22-4cea-9c96-3924d37fe2a3",
   "metadata": {},
   "outputs": [
    {
     "name": "stdin",
     "output_type": "stream",
     "text": [
      "enter the input: -ab14\n"
     ]
    },
    {
     "name": "stdout",
     "output_type": "stream",
     "text": [
      "-14\n"
     ]
    }
   ],
   "source": [
    "s=input(\"enter the input:\")\n",
    "n=''\n",
    "numbers=[0,1,2,3,4,5,6,7,8,9]\n",
    "if s[0]==\"-\":\n",
    "    n=n+s[0]\n",
    "for v in s:\n",
    "    if v in str(numbers):\n",
    "        n=n+v\n",
    "print(n)        "
   ]
  },
  {
   "cell_type": "code",
   "execution_count": null,
   "id": "b7bcad96-66d6-416f-a241-c819d8bea8b8",
   "metadata": {},
   "outputs": [],
   "source": [
    "Write a python function to find and display the five \n",
    "digit number in which the first digit is two more than \n",
    "the second,the second digit is two more than the third,\n",
    "the fourth digit is two less than the third, and the \n",
    "last digit is two more than\n",
    "the fourth.The sum of the third,fourth and fifth digits\n",
    "equals the first.The sum of all the digits is 19"
   ]
  },
  {
   "cell_type": "code",
   "execution_count": 14,
   "id": "bc96bbf2-06ca-4bdc-9c01-53ea49887ef8",
   "metadata": {},
   "outputs": [],
   "source": [
    "def find_5digit_no():\n",
    "    for c in range(1,8):\n",
    "        a=c+2\n",
    "        b=c+2\n",
    "        d=c-2\n",
    "        e=d+2\n",
    "        if a+b+c+d+e==19 and c+d+e==a:\n",
    "            number =input( \"{a}{b}{c}{d}{e}\")\n",
    "            print(\"the 5 digit number is:\",(numbers))"
   ]
  },
  {
   "cell_type": "code",
   "execution_count": null,
   "id": "4f00c647-e49f-49bd-a07f-bd0863d82adc",
   "metadata": {},
   "outputs": [],
   "source": []
  }
 ],
 "metadata": {
  "kernelspec": {
   "display_name": "Python 3 (ipykernel)",
   "language": "python",
   "name": "python3"
  },
  "language_info": {
   "codemirror_mode": {
    "name": "ipython",
    "version": 3
   },
   "file_extension": ".py",
   "mimetype": "text/x-python",
   "name": "python",
   "nbconvert_exporter": "python",
   "pygments_lexer": "ipython3",
   "version": "3.12.7"
  }
 },
 "nbformat": 4,
 "nbformat_minor": 5
}
